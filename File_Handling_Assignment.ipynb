{
 "cells": [
  {
   "cell_type": "code",
   "execution_count": 9,
   "id": "061ec3e2-0f3a-472c-981f-7e95949f9f97",
   "metadata": {},
   "outputs": [
    {
     "name": "stdout",
     "output_type": "stream",
     "text": [
      "File contents:\n",
      "Hello, My name is Varun Anand.\n",
      "I am learning Python Programming in PWSkills.\n",
      "This is file Handling Section in Python.\n",
      "\n"
     ]
    }
   ],
   "source": [
    "#T1create a new text file and write a few lines of text into it\n",
    "\n",
    "# Task 1: Create a file and write content into file\n",
    "with open(\"file.txt\", \"w\") as file:\n",
    "    file.write(\"Hello, My name is Varun Anand.\\n\")\n",
    "    file.write(\"I am learning Python Programming in PWSkills.\\n\")\n",
    "    file.write(\"This is file Handling Section in Python.\\n\")\n",
    "    \n",
    "#T2Open and read the contents of the file you just created\n",
    "\n",
    "# Task 2:Open and read the contents of the file you just created\n",
    "\n",
    "with open(\"file.txt\", \"r\") as file:\n",
    "    contents = file.read()\n",
    "\n",
    "print(\"File contents:\")\n",
    "print(contents)"
   ]
  },
  {
   "cell_type": "code",
   "execution_count": 11,
   "id": "e1c61927-73da-4535-94de-331eca7edade",
   "metadata": {},
   "outputs": [
    {
     "name": "stdout",
     "output_type": "stream",
     "text": [
      "Additional text added.\n"
     ]
    }
   ],
   "source": [
    "#T3Add additional text to the existing file without deleting the current content\n",
    "\n",
    "# Task3 Add additional text to the existing file without deleting the current content\n",
    "\n",
    "\n",
    "with open(\"file.txt\", \"a\") as file:\n",
    "    file.write(\"Python Programming is the simplest Language.\\n\")\n",
    "    file.write(\"We can easily automate the stuff using Python Programming.\\n\")\n",
    "\n",
    "print(\"Additional text added.\")"
   ]
  },
  {
   "cell_type": "code",
   "execution_count": 14,
   "id": "7e1db7a1-8fc3-4716-af86-5c1d4c6ac381",
   "metadata": {},
   "outputs": [
    {
     "name": "stdout",
     "output_type": "stream",
     "text": [
      "Hello, My name is Varun Anand.\n",
      "I am learning Python Programming in PWSkills.\n",
      "This is file Handling Section in Python.\n",
      "Python Programming is the simplest Language.\n",
      "We can easily automate the stuff using Python Programming.\n",
      "Python Programming is the simplest Language.\n",
      "We can easily automate the stuff using Python Programming.\n",
      "Line Printed successfully.\n"
     ]
    }
   ],
   "source": [
    "#T4Read and print each line from the file one by one now\n",
    "#Task4 Read and print each line from the file one by one now\n",
    "\n",
    "### Insight ------># Open the file in read mode\n",
    "with open(\"file.txt\", \"r\") as file:\n",
    "### Insight -------># Iterate over each line in the file\n",
    "    for line in file:\n",
    "### Insight--------># Print the line\n",
    "        print(line, end='')\n",
    "\n",
    "print(\"Line Printed successfully.\")"
   ]
  },
  {
   "cell_type": "code",
   "execution_count": 16,
   "id": "d7a0b28e-ad64-4a15-8480-2c0d885323db",
   "metadata": {},
   "outputs": [
    {
     "name": "stdout",
     "output_type": "stream",
     "text": [
      "List written to file successfully.\n"
     ]
    }
   ],
   "source": [
    "#T5write the contents of a list to a file, with each item on a new line\n",
    "\n",
    "#Task 5 write the contents of a list to a file, with each item on a new line\n",
    "\n",
    "# Open the file in read mode\n",
    "# Sample list of data\n",
    "my_list = [\"item1\", \"item2\", \"item3\", \"item4\"]\n",
    "\n",
    "with open(\"list_output.txt\", \"w\") as file:\n",
    "    \n",
    "    for item in my_list:\n",
    "    \n",
    "        file.write(item + \"\\n\")\n",
    "\n",
    "print(\"List written to file successfully.\")\n"
   ]
  },
  {
   "cell_type": "code",
   "execution_count": 18,
   "id": "b43dff8a-5a4c-4f73-b839-94bed55048be",
   "metadata": {},
   "outputs": [
    {
     "name": "stdout",
     "output_type": "stream",
     "text": [
      "File content as a List:\n",
      "['Hello, My name is Varun Anand.\\n', 'I am learning Python Programming in PWSkills.\\n', 'This is file Handling Section in Python.\\n', 'Python Programming is the simplest Language.\\n', 'We can easily automate the stuff using Python Programming.\\n', 'Python Programming is the simplest Language.\\n', 'We can easily automate the stuff using Python Programming.\\n']\n"
     ]
    }
   ],
   "source": [
    "#T6 Read the file content into a list, where each line is an element of the list\n",
    "\n",
    "#Task 6  Read the file content into a list, where each line is an element of the list\n",
    "\n",
    "\n",
    "with open(\"file.txt\", \"r\") as file:\n",
    "    \n",
    "    lines = file.readlines()\n",
    "\n",
    "print(\"File content as a List:\")\n",
    "print(lines)\n"
   ]
  },
  {
   "cell_type": "code",
   "execution_count": 20,
   "id": "1287471b-b52b-4cc7-afa5-48c37d958c3c",
   "metadata": {},
   "outputs": [
    {
     "name": "stdout",
     "output_type": "stream",
     "text": [
      "Total number of words in the file: 50\n"
     ]
    }
   ],
   "source": [
    "#T7  Count the total number of words in the file\n",
    "\n",
    "#Task 7  Count the total number of words in the file\n",
    "\n",
    "#Insight ---->Open the file in read mode\n",
    "with open(\"file.txt\", \"r\") as file:\n",
    "#Insight ----->Read the entire content of the file\n",
    "    content = file.read()\n",
    "#Insight----> Split the content into words\n",
    "    words = content.split()\n",
    "#Insight---> Count the number of words\n",
    "    word_count = len(words)\n",
    "\n",
    "print(f\"Total number of words in the file: {word_count}\")\n"
   ]
  },
  {
   "cell_type": "code",
   "execution_count": 21,
   "id": "6d9baf78-f29d-4099-a482-6f27842a5730",
   "metadata": {},
   "outputs": [
    {
     "name": "stdout",
     "output_type": "stream",
     "text": [
      "File copied successfully.\n"
     ]
    }
   ],
   "source": [
    "#T8  Copy the contents of one file to another file\n",
    "\n",
    "#Task 8  Copy the contents of one file to another file\n",
    "\n",
    "import shutil\n",
    "\n",
    "#Insight----> Source file path\n",
    "source_file = \"file.txt\"\n",
    "#Insight----> Destination file path\n",
    "destination_file = \"copy_file.txt\"\n",
    "\n",
    "#Insight ----> Copy the contents of the source file to the destination file\n",
    "shutil.copyfile(source_file, destination_file)\n",
    "\n",
    "print(\"File copied successfully.\")\n"
   ]
  },
  {
   "cell_type": "code",
   "execution_count": 24,
   "id": "abdaced6-c1c0-4f83-bb7e-35f287b72dbb",
   "metadata": {},
   "outputs": [
    {
     "name": "stdout",
     "output_type": "stream",
     "text": [
      "The file copy_file.txt exists.\n",
      "Hello, My name is Varun Anand.\n",
      "I am learning Python Programming in PWSkills.\n",
      "This is file Handling Section in Python.\n",
      "Python Programming is the simplest Language.\n",
      "We can easily automate the stuff using Python Programming.\n",
      "Python Programming is the simplest Language.\n",
      "We can easily automate the stuff using Python Programming.\n",
      "\n"
     ]
    }
   ],
   "source": [
    "#T9  check if a file exists before attempting to read it\n",
    "\n",
    "#Task 9  check if a file exists before attempting to read it\n",
    "\n",
    "from pathlib import Path\n",
    "\n",
    "file_path = Path(\"copy_file.txt\")\n",
    "\n",
    "#Insight ---->  Check if the file exists\n",
    "if file_path.exists():\n",
    "    print(f\"The file {file_path} exists.\")\n",
    "#Insight---> Open and read the file\n",
    "    with file_path.open(\"r\") as file:\n",
    "        content = file.read()\n",
    "        print(content)\n",
    "else:\n",
    "    print(f\"The file {file_path} does not exist.\")\n"
   ]
  },
  {
   "cell_type": "code",
   "execution_count": 25,
   "id": "1656e2ad-ed73-4f81-b65b-161cfc653b73",
   "metadata": {},
   "outputs": [
    {
     "name": "stdout",
     "output_type": "stream",
     "text": [
      "The file copy_file.txt has been deleted successfully.\n"
     ]
    }
   ],
   "source": [
    "#T10 Delete a file using Python\n",
    "\n",
    "#Task Delete a file using Python\n",
    "\n",
    "import os\n",
    "\n",
    "file_path = \"copy_file.txt\"\n",
    "\n",
    "#Insight --->  Check if the file exists before attempting to delete it\n",
    "if os.path.exists(file_path):\n",
    "    os.remove(file_path)\n",
    "    print(f\"The file {file_path} has been deleted successfully.\")\n",
    "else:\n",
    "    print(f\"The file {file_path} does not exist.\")\n"
   ]
  },
  {
   "cell_type": "code",
   "execution_count": null,
   "id": "bb702b5e-27ce-49cf-a694-6036da4dcda5",
   "metadata": {},
   "outputs": [],
   "source": []
  }
 ],
 "metadata": {
  "kernelspec": {
   "display_name": "Python 3 (ipykernel)",
   "language": "python",
   "name": "python3"
  },
  "language_info": {
   "codemirror_mode": {
    "name": "ipython",
    "version": 3
   },
   "file_extension": ".py",
   "mimetype": "text/x-python",
   "name": "python",
   "nbconvert_exporter": "python",
   "pygments_lexer": "ipython3",
   "version": "3.10.8"
  }
 },
 "nbformat": 4,
 "nbformat_minor": 5
}
